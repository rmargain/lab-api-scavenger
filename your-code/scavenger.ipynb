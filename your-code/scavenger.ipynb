{
 "cells": [
  {
   "cell_type": "code",
   "execution_count": 102,
   "id": "e179d055",
   "metadata": {},
   "outputs": [],
   "source": [
    "import requests\n",
    "import re\n",
    "from operator import itemgetter"
   ]
  },
  {
   "cell_type": "code",
   "execution_count": 36,
   "id": "d3c368f3",
   "metadata": {},
   "outputs": [],
   "source": [
    "username = 'rmargain'\n",
    "token = '***************'"
   ]
  },
  {
   "cell_type": "code",
   "execution_count": 14,
   "id": "0a969525",
   "metadata": {
    "scrolled": true
   },
   "outputs": [
    {
     "data": {
      "text/plain": [
       "['.gitignore',\n",
       " '15024',\n",
       " '15534',\n",
       " '17020',\n",
       " '30351',\n",
       " '40303',\n",
       " '44639',\n",
       " '45525',\n",
       " '47222',\n",
       " '47830',\n",
       " '49418',\n",
       " '50896',\n",
       " '55417',\n",
       " '55685',\n",
       " '60224',\n",
       " '64880',\n",
       " '66032',\n",
       " '68848',\n",
       " '70751',\n",
       " '70985',\n",
       " '88596',\n",
       " '89046',\n",
       " '89338',\n",
       " '91701',\n",
       " '97881',\n",
       " '98750']"
      ]
     },
     "execution_count": 14,
     "metadata": {},
     "output_type": "execute_result"
    }
   ],
   "source": [
    "#https://api.github.com/repos/ironhack-datalabs/scavenger/branches{/branch}\n",
    "response = requests.get('https://api.github.com/repos/ironhack-datalabs/scavenger/contents/')\n",
    "a = response.json()\n",
    "paths = []\n",
    "for path in a:\n",
    "    paths.append(path['path'])\n",
    "paths"
   ]
  },
  {
   "cell_type": "code",
   "execution_count": 41,
   "id": "f6e6a9dd",
   "metadata": {
    "scrolled": true
   },
   "outputs": [
    {
     "data": {
      "text/plain": [
       "['15024',\n",
       " '15534',\n",
       " '17020',\n",
       " '30351',\n",
       " '40303',\n",
       " '44639',\n",
       " '45525',\n",
       " '47222',\n",
       " '47830',\n",
       " '49418',\n",
       " '50896',\n",
       " '55417',\n",
       " '55685',\n",
       " '60224',\n",
       " '64880',\n",
       " '66032',\n",
       " '68848',\n",
       " '70751',\n",
       " '70985',\n",
       " '88596',\n",
       " '89046',\n",
       " '89338',\n",
       " '91701',\n",
       " '97881',\n",
       " '98750']"
      ]
     },
     "execution_count": 41,
     "metadata": {},
     "output_type": "execute_result"
    }
   ],
   "source": [
    "final_paths = paths[1:]\n",
    "final_paths"
   ]
  },
  {
   "cell_type": "code",
   "execution_count": 116,
   "id": "543c4099",
   "metadata": {},
   "outputs": [
    {
     "data": {
      "text/plain": [
       "[{'path': '15024', 'element': '.0006.scavengerhunt'},\n",
       " {'path': '15534', 'element': '.0008.scavengerhunt'},\n",
       " {'path': '15534', 'element': '.0012.scavengerhunt'},\n",
       " {'path': '17020', 'element': '.0007.scavengerhunt'},\n",
       " {'path': '30351', 'element': '.0021.scavengerhunt'},\n",
       " {'path': '40303', 'element': '.0022.scavengerhunt'},\n",
       " {'path': '44639', 'element': '.0005.scavengerhunt'},\n",
       " {'path': '45525', 'element': '.0018.scavengerhunt'},\n",
       " {'path': '47222', 'element': '.0016.scavengerhunt'},\n",
       " {'path': '47222', 'element': '.0024.scavengerhunt'},\n",
       " {'path': '47830', 'element': '.0010.scavengerhunt'},\n",
       " {'path': '49418', 'element': '.0014.scavengerhunt'},\n",
       " {'path': '50896', 'element': '.0011.scavengerhunt'},\n",
       " {'path': '55417', 'element': '.0023.scavengerhunt'},\n",
       " {'path': '55685', 'element': '.0020.scavengerhunt'},\n",
       " {'path': '60224', 'element': '.0003.scavengerhunt'},\n",
       " {'path': '68848', 'element': '.0004.scavengerhunt'},\n",
       " {'path': '70751', 'element': '.0019.scavengerhunt'},\n",
       " {'path': '70985', 'element': '.0017.scavengerhunt'},\n",
       " {'path': '88596', 'element': '.0002.scavengerhunt'},\n",
       " {'path': '89338', 'element': '.0013.scavengerhunt'},\n",
       " {'path': '91701', 'element': '.0015.scavengerhunt'},\n",
       " {'path': '97881', 'element': '.0009.scavengerhunt'},\n",
       " {'path': '98750', 'element': '.0001.scavengerhunt'}]"
      ]
     },
     "execution_count": 116,
     "metadata": {},
     "output_type": "execute_result"
    }
   ],
   "source": [
    "eggs = []\n",
    "for path in final_paths:\n",
    "    response = requests.get(f'https://api.github.com/repos/ironhack-datalabs/scavenger/contents/{path}', auth=(username, token))\n",
    "    a = response.json()\n",
    "    pattern = '\\.\\d{4}\\.scavengerhunt'\n",
    "    for element in a:\n",
    "        if (re.match(pattern, element['name'])):\n",
    "            eggs.append({\"path\": path, \"element\": element['name']})\n",
    "eggs"
   ]
  },
  {
   "cell_type": "code",
   "execution_count": 118,
   "id": "b00f13d0",
   "metadata": {},
   "outputs": [
    {
     "data": {
      "text/plain": [
       "[{'path': '98750', 'element': '.0001.scavengerhunt'},\n",
       " {'path': '88596', 'element': '.0002.scavengerhunt'},\n",
       " {'path': '60224', 'element': '.0003.scavengerhunt'},\n",
       " {'path': '68848', 'element': '.0004.scavengerhunt'},\n",
       " {'path': '44639', 'element': '.0005.scavengerhunt'},\n",
       " {'path': '15024', 'element': '.0006.scavengerhunt'},\n",
       " {'path': '17020', 'element': '.0007.scavengerhunt'},\n",
       " {'path': '15534', 'element': '.0008.scavengerhunt'},\n",
       " {'path': '97881', 'element': '.0009.scavengerhunt'},\n",
       " {'path': '47830', 'element': '.0010.scavengerhunt'},\n",
       " {'path': '50896', 'element': '.0011.scavengerhunt'},\n",
       " {'path': '15534', 'element': '.0012.scavengerhunt'},\n",
       " {'path': '89338', 'element': '.0013.scavengerhunt'},\n",
       " {'path': '49418', 'element': '.0014.scavengerhunt'},\n",
       " {'path': '91701', 'element': '.0015.scavengerhunt'},\n",
       " {'path': '47222', 'element': '.0016.scavengerhunt'},\n",
       " {'path': '70985', 'element': '.0017.scavengerhunt'},\n",
       " {'path': '45525', 'element': '.0018.scavengerhunt'},\n",
       " {'path': '70751', 'element': '.0019.scavengerhunt'},\n",
       " {'path': '55685', 'element': '.0020.scavengerhunt'},\n",
       " {'path': '30351', 'element': '.0021.scavengerhunt'},\n",
       " {'path': '40303', 'element': '.0022.scavengerhunt'},\n",
       " {'path': '55417', 'element': '.0023.scavengerhunt'},\n",
       " {'path': '47222', 'element': '.0024.scavengerhunt'}]"
      ]
     },
     "execution_count": 118,
     "metadata": {},
     "output_type": "execute_result"
    }
   ],
   "source": [
    "new_eggs = sorted(eggs, key=itemgetter('element'))\n",
    "new_eggs"
   ]
  },
  {
   "cell_type": "code",
   "execution_count": 119,
   "id": "b6201a1d",
   "metadata": {
    "scrolled": true
   },
   "outputs": [
    {
     "data": {
      "text/plain": [
       "'In data science, 80 percent of time spent is preparing data, 20 percent of time is spent complaining about the need to prepare data. '"
      ]
     },
     "execution_count": 119,
     "metadata": {},
     "output_type": "execute_result"
    }
   ],
   "source": [
    "import base64\n",
    "text= ''\n",
    "for file in new_eggs:\n",
    "    response = requests.get(f\"https://api.github.com/repos/ironhack-datalabs/scavenger/contents/{file['path']}/{file['element']}\")\n",
    "    a = response.json()\n",
    "    aa = base64.b64decode(a['content'])\n",
    "    aaa = aa.decode('utf-8')\n",
    "    aaaa = aaa.replace('\\n', '')\n",
    "    text+= f'{aaaa} '\n",
    "text"
   ]
  }
 ],
 "metadata": {
  "kernelspec": {
   "display_name": "Python 3 (ipykernel)",
   "language": "python",
   "name": "python3"
  },
  "language_info": {
   "codemirror_mode": {
    "name": "ipython",
    "version": 3
   },
   "file_extension": ".py",
   "mimetype": "text/x-python",
   "name": "python",
   "nbconvert_exporter": "python",
   "pygments_lexer": "ipython3",
   "version": "3.9.7"
  }
 },
 "nbformat": 4,
 "nbformat_minor": 5
}
